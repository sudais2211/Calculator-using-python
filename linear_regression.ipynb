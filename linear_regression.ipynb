{
  "nbformat": 4,
  "nbformat_minor": 0,
  "metadata": {
    "colab": {
      "private_outputs": true,
      "provenance": [],
      "authorship_tag": "ABX9TyO3B7d6zG6y2Z5fOVD/WGR4",
      "include_colab_link": true
    },
    "kernelspec": {
      "name": "python3",
      "display_name": "Python 3"
    },
    "language_info": {
      "name": "python"
    }
  },
  "cells": [
    {
      "cell_type": "markdown",
      "metadata": {
        "id": "view-in-github",
        "colab_type": "text"
      },
      "source": [
        "<a href=\"https://colab.research.google.com/github/sudais2211/Calculator-using-python/blob/main/linear_regression.ipynb\" target=\"_parent\"><img src=\"https://colab.research.google.com/assets/colab-badge.svg\" alt=\"Open In Colab\"/></a>"
      ]
    },
    {
      "cell_type": "code",
      "execution_count": null,
      "metadata": {
        "id": "fKELw8Su6Rb0"
      },
      "outputs": [],
      "source": [
        "import pandas as pd"
      ]
    },
    {
      "cell_type": "code",
      "source": [
        "from sklearn.datasets import fetch_california_housing"
      ],
      "metadata": {
        "id": "r-YlbRUV6iIU"
      },
      "execution_count": null,
      "outputs": []
    },
    {
      "cell_type": "code",
      "source": [
        "import numpy as np\n",
        "import matplotlib.pyplot as plt\n",
        "import pandas as pd"
      ],
      "metadata": {
        "id": "5UuSvOr4IvAG"
      },
      "execution_count": null,
      "outputs": []
    },
    {
      "cell_type": "code",
      "source": [
        "df = fetch_california_housing()"
      ],
      "metadata": {
        "id": "hG1RQu3SJRD9"
      },
      "execution_count": null,
      "outputs": []
    },
    {
      "cell_type": "code",
      "source": [
        "df"
      ],
      "metadata": {
        "id": "FR0HRZm8J_d-"
      },
      "execution_count": null,
      "outputs": []
    },
    {
      "cell_type": "code",
      "source": [
        "# make a dataframe\n",
        "dataset = pd.DataFrame(df.data)"
      ],
      "metadata": {
        "id": "ScZx6dh7JpUg"
      },
      "execution_count": null,
      "outputs": []
    },
    {
      "cell_type": "code",
      "source": [
        "dataset"
      ],
      "metadata": {
        "id": "GrW8w4MAKSI3"
      },
      "execution_count": null,
      "outputs": []
    },
    {
      "cell_type": "code",
      "source": [
        "dataset.columns = df.feature_names"
      ],
      "metadata": {
        "id": "SeFEW1PvKfBH"
      },
      "execution_count": null,
      "outputs": []
    },
    {
      "cell_type": "code",
      "source": [
        "dataset.head()"
      ],
      "metadata": {
        "id": "Gq6_mGpWKz4G"
      },
      "execution_count": null,
      "outputs": []
    },
    {
      "cell_type": "code",
      "source": [
        "# independent feature and dependent feature mean divide data into dependent and independent feature\n",
        "X = dataset\n",
        "y = df.target"
      ],
      "metadata": {
        "id": "S_JItV7vIFgN"
      },
      "execution_count": null,
      "outputs": []
    },
    {
      "cell_type": "code",
      "source": [
        "# display the result\n",
        "y"
      ],
      "metadata": {
        "id": "5JjwQxm1IeWW"
      },
      "execution_count": null,
      "outputs": []
    },
    {
      "cell_type": "code",
      "source": [
        "#test train test\n",
        "from sklearn.model_selection import train_test_split\n",
        "X_train, X_test, y_train, y_test = train_test_split(X, y, test_size = 0.30, random_state = 42)\n"
      ],
      "metadata": {
        "id": "cSWsXzKpI56w"
      },
      "execution_count": null,
      "outputs": []
    },
    {
      "cell_type": "code",
      "source": [
        "X_train # data from X_train"
      ],
      "metadata": {
        "id": "0u7mxL2vJZFx"
      },
      "execution_count": null,
      "outputs": []
    },
    {
      "cell_type": "code",
      "source": [
        "# now apply linear regression model\n",
        "## standadizing the dataset\n",
        "from sklearn.preprocessing import StandardScaler\n",
        "scaler = StandardScaler()"
      ],
      "metadata": {
        "id": "7lwtBKqQJg-v"
      },
      "execution_count": null,
      "outputs": []
    },
    {
      "cell_type": "code",
      "source": [
        "X_train = scaler.fit_transform(X_train)"
      ],
      "metadata": {
        "id": "cpey9FjGKnIM"
      },
      "execution_count": null,
      "outputs": []
    },
    {
      "cell_type": "code",
      "source": [
        "## now x_test\n",
        "X_test = scaler.transform(X_test)"
      ],
      "metadata": {
        "id": "EajxH70FKxs_"
      },
      "execution_count": null,
      "outputs": []
    },
    {
      "cell_type": "code",
      "source": [
        "X_train"
      ],
      "metadata": {
        "id": "_4wgtF03LIgX"
      },
      "execution_count": null,
      "outputs": []
    },
    {
      "cell_type": "code",
      "source": [
        "## import the model\n",
        "from sklearn.linear_model import LinearRegression\n",
        "## cross validation\n",
        "from sklearn.model_selection import cross_val_score"
      ],
      "metadata": {
        "id": "c7yihxYPLjII"
      },
      "execution_count": null,
      "outputs": []
    },
    {
      "cell_type": "code",
      "source": [
        "## create an object of regression\n",
        "regression = LinearRegression()\n",
        "regression.fit(X_train,y_train)"
      ],
      "metadata": {
        "id": "GgN4k3bHMO-X"
      },
      "execution_count": null,
      "outputs": []
    },
    {
      "cell_type": "code",
      "source": [
        "mse = cross_val_score(regression, X_train, y_train, scoring = 'neg_mean_squared_error', cv = 5)"
      ],
      "metadata": {
        "id": "_5x4Ch2ENQBY"
      },
      "execution_count": null,
      "outputs": []
    },
    {
      "cell_type": "code",
      "source": [
        "np.mean(mse)"
      ],
      "metadata": {
        "id": "-z_v5z5HNW2v"
      },
      "execution_count": null,
      "outputs": []
    },
    {
      "cell_type": "code",
      "source": [
        "## prediction on test data\n",
        "reg_pred = regression.predict(X_test)\n"
      ],
      "metadata": {
        "id": "pBpukeC5NlW5"
      },
      "execution_count": null,
      "outputs": []
    },
    {
      "cell_type": "code",
      "source": [
        "reg_pred"
      ],
      "metadata": {
        "id": "U1vl7l5sOk17"
      },
      "execution_count": null,
      "outputs": []
    },
    {
      "cell_type": "code",
      "source": [
        "import seaborn as sns\n",
        "sns.distplot(reg_pred - y_test)"
      ],
      "metadata": {
        "id": "YKGR8ZnrPK7S"
      },
      "execution_count": null,
      "outputs": []
    },
    {
      "cell_type": "code",
      "source": [
        "## OR check through r2 score\n",
        "from sklearn.metrics import r2_score\n",
        "score = r2_score(y_test, reg_pred)"
      ],
      "metadata": {
        "id": "k-VqL3rJQFCk"
      },
      "execution_count": null,
      "outputs": []
    },
    {
      "cell_type": "code",
      "source": [
        "score"
      ],
      "metadata": {
        "id": "VTVFzTdUQTOG"
      },
      "execution_count": null,
      "outputs": []
    },
    {
      "cell_type": "markdown",
      "source": [
        "## ***Ridge linear regression (to avoid overfitting)***"
      ],
      "metadata": {
        "id": "ramhXqDYHj3s"
      }
    },
    {
      "cell_type": "code",
      "source": [
        "from sklearn.linear_model import Ridge\n",
        "from sklearn.model_selection import GridSearchCV"
      ],
      "metadata": {
        "id": "wk26Gb_wHzNo"
      },
      "execution_count": null,
      "outputs": []
    },
    {
      "cell_type": "code",
      "source": [
        "rigde_regressor = Ridge()"
      ],
      "metadata": {
        "id": "BseQ6L8rIJBD"
      },
      "execution_count": null,
      "outputs": []
    },
    {
      "cell_type": "code",
      "source": [
        "rigde_regressor"
      ],
      "metadata": {
        "id": "UHMZWEUpINsV"
      },
      "execution_count": null,
      "outputs": []
    },
    {
      "cell_type": "code",
      "source": [
        "parameter = {'alpha': [1e-15,1e-10,1e-8,1e-3,1e-2,1,5,10,20,30,35,40,45,50,55,]}\n",
        "rigdecv = GridSearchCV(rigde_regressor, parameter, scoring = 'neg_mean_squared_error', cv = 5)\n",
        "rigdecv.fit(X_train, y_train)\n"
      ],
      "metadata": {
        "id": "2Cx61BS6Ie2n"
      },
      "execution_count": null,
      "outputs": []
    },
    {
      "cell_type": "code",
      "source": [
        "print(rigdecv.best_params_)"
      ],
      "metadata": {
        "id": "jonvxDQBJ1n-"
      },
      "execution_count": null,
      "outputs": []
    },
    {
      "cell_type": "code",
      "source": [
        "print(rigdecv.best_score_)"
      ],
      "metadata": {
        "id": "vjIHk880J7GN"
      },
      "execution_count": null,
      "outputs": []
    },
    {
      "cell_type": "code",
      "source": [
        "ridge_pred = rigdecv.predict(X_test)"
      ],
      "metadata": {
        "id": "ncqVsjTPK69I"
      },
      "execution_count": null,
      "outputs": []
    },
    {
      "cell_type": "code",
      "source": [
        "import seaborn as sns\n",
        "sns.distplot(ridge_pred - y_test)"
      ],
      "metadata": {
        "id": "lrhMr97dLEG0"
      },
      "execution_count": null,
      "outputs": []
    },
    {
      "cell_type": "markdown",
      "source": [
        "Or predict with r score"
      ],
      "metadata": {
        "id": "YWSWuAg1Ljq2"
      }
    },
    {
      "cell_type": "code",
      "source": [
        "score = r2_score(y_test, ridge_pred)"
      ],
      "metadata": {
        "id": "9rEJngsQLopT"
      },
      "execution_count": null,
      "outputs": []
    },
    {
      "cell_type": "code",
      "source": [
        "score"
      ],
      "metadata": {
        "id": "PJt-gxCsLwTP"
      },
      "execution_count": null,
      "outputs": []
    },
    {
      "cell_type": "markdown",
      "source": [
        "Lasso regression"
      ],
      "metadata": {
        "id": "F0I_uCDRMB_V"
      }
    },
    {
      "cell_type": "code",
      "source": [
        "from sklearn.linear_model import Lasso"
      ],
      "metadata": {
        "id": "9j2lcrJ4MEjb"
      },
      "execution_count": null,
      "outputs": []
    },
    {
      "cell_type": "code",
      "source": [
        "lasso = Lasso()"
      ],
      "metadata": {
        "id": "6e8b0FpSMO44"
      },
      "execution_count": null,
      "outputs": []
    },
    {
      "cell_type": "code",
      "source": [
        "parameter = {'alpha': [1e-15,1e-10,1e-8,1e-3,1e-2,1,5,10,20,30,35,40,45,50,55,]}\n",
        "lassocv = GridSearchCV(lasso, parameter, scoring = 'neg_mean_squared_error', cv = 5)\n",
        "lassocv.fit(X_train, y_train)"
      ],
      "metadata": {
        "id": "UEP4XK-TMc5E"
      },
      "execution_count": null,
      "outputs": []
    },
    {
      "cell_type": "code",
      "source": [
        "print(lassocv.best_params_)"
      ],
      "metadata": {
        "id": "GMWBxLp1MyFp"
      },
      "execution_count": null,
      "outputs": []
    },
    {
      "cell_type": "code",
      "source": [
        "print(lassocv.best_score_)"
      ],
      "metadata": {
        "id": "aGIksUgwM1Ww"
      },
      "execution_count": null,
      "outputs": []
    },
    {
      "cell_type": "code",
      "source": [
        "lasso_pred = lassocv.predict(X_test)"
      ],
      "metadata": {
        "id": "3MqzQkMQNM9Q"
      },
      "execution_count": null,
      "outputs": []
    },
    {
      "cell_type": "code",
      "source": [
        "import seaborn as sns\n",
        "sns.distplot(lasso_pred - y_test)"
      ],
      "metadata": {
        "id": "9KAy_rnuNUI3"
      },
      "execution_count": null,
      "outputs": []
    },
    {
      "cell_type": "markdown",
      "source": [
        "or with r score"
      ],
      "metadata": {
        "id": "T_QPt7mrNkTS"
      }
    },
    {
      "cell_type": "code",
      "source": [
        "score = r2_score(y_test, lasso_pred)"
      ],
      "metadata": {
        "id": "gfSc7YFONmhW"
      },
      "execution_count": null,
      "outputs": []
    },
    {
      "cell_type": "code",
      "source": [
        "score"
      ],
      "metadata": {
        "id": "XoG12KWjNpRG"
      },
      "execution_count": null,
      "outputs": []
    }
  ]
}